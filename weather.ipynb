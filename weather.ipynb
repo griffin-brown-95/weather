{
 "cells": [
  {
   "cell_type": "markdown",
   "metadata": {},
   "source": [
    "# Weather API Project\n",
    "\n",
    "## Griffin Brown"
   ]
  },
  {
   "cell_type": "code",
   "execution_count": 1,
   "metadata": {},
   "outputs": [],
   "source": [
    "import requests\n",
    "import pandas as pd\n",
    "import pgeocode\n",
    "import json\n",
    "import matplotlib.pyplot as plt\n",
    "from tabulate import tabulate\n",
    "import plotly.graph_objects as go"
   ]
  },
  {
   "cell_type": "markdown",
   "metadata": {},
   "source": [
    "### Convert Zip\n",
    "\n",
    "I want the user to be able to put in a zip code and see the forecast. Using NOAA API weather service, I need a latitude and longitude, so I'll need to convert the user input."
   ]
  },
  {
   "cell_type": "code",
   "execution_count": 2,
   "metadata": {},
   "outputs": [],
   "source": [
    "nomi = pgeocode.Nominatim('us')\n",
    "query = nomi.query_postal_code(\"84098\")\n",
    "\n",
    "lat = query[\"latitude\"]\n",
    "lon = query[\"longitude\"]"
   ]
  },
  {
   "cell_type": "markdown",
   "metadata": {},
   "source": [
    "### First Request\n",
    "\n",
    "The first request returns details for this lat/lon, with several other API endpoints."
   ]
  },
  {
   "cell_type": "code",
   "execution_count": 3,
   "metadata": {},
   "outputs": [],
   "source": [
    "url = f'https://api.weather.gov/points/{lat},{lon}'\n",
    "\n",
    "response = requests.get(url)\n",
    "\n",
    "if response.status_code == 200:\n",
    "    response_json = response.json()\n",
    "    #print(json.dumps(response_json, indent=4))\n",
    "    forecast_url = response_json['properties']['forecast']\n",
    "else:\n",
    "    print(f\"Error: Unable to fetch data, status code {response.status_code}\")"
   ]
  },
  {
   "cell_type": "code",
   "execution_count": 4,
   "metadata": {},
   "outputs": [],
   "source": [
    "forecast_response = requests.get(forecast_url)"
   ]
  },
  {
   "cell_type": "markdown",
   "metadata": {},
   "source": [
    "### Creating Interpretable Dataframe\n",
    "\n",
    "The next part will involve parsing the json string and appending to a dataframe."
   ]
  },
  {
   "cell_type": "code",
   "execution_count": 5,
   "metadata": {},
   "outputs": [
    {
     "name": "stdout",
     "output_type": "stream",
     "text": [
      "          Date  Day Time  Temp Short Forecast  \\\n",
      "0   05/29/2024     False    37   Mostly Clear   \n",
      "1   05/30/2024      True    63          Sunny   \n",
      "2   05/30/2024     False    39   Mostly Clear   \n",
      "3   05/31/2024      True    71          Sunny   \n",
      "4   05/31/2024     False    46   Mostly Clear   \n",
      "5   06/01/2024      True    79   Mostly Sunny   \n",
      "6   06/01/2024     False    50  Partly Cloudy   \n",
      "7   06/02/2024      True    75   Mostly Sunny   \n",
      "8   06/02/2024     False    49  Partly Cloudy   \n",
      "9   06/03/2024      True    79   Mostly Sunny   \n",
      "10  06/03/2024     False    50  Mostly Cloudy   \n",
      "11  06/04/2024      True    71   Partly Sunny   \n",
      "12  06/04/2024     False    46  Partly Cloudy   \n",
      "13  06/05/2024      True    77          Sunny   \n",
      "\n",
      "                                    Detailed Forecast  \n",
      "0   Mostly clear. Low around 37, with temperatures...  \n",
      "1   Sunny, with a high near 63. West wind 1 to 9 mph.  \n",
      "2   Mostly clear, with a low around 39. East south...  \n",
      "3   Sunny, with a high near 71. West wind 0 to 6 mph.  \n",
      "4   Mostly clear, with a low around 46. North nort...  \n",
      "5                  Mostly sunny, with a high near 79.  \n",
      "6                Partly cloudy, with a low around 50.  \n",
      "7                  Mostly sunny, with a high near 75.  \n",
      "8                Partly cloudy, with a low around 49.  \n",
      "9                  Mostly sunny, with a high near 79.  \n",
      "10               Mostly cloudy, with a low around 50.  \n",
      "11                 Partly sunny, with a high near 71.  \n",
      "12               Partly cloudy, with a low around 46.  \n",
      "13                        Sunny, with a high near 77.  \n"
     ]
    }
   ],
   "source": [
    "if forecast_response.status_code==200:\n",
    "    forecast_json = forecast_response.json()\n",
    "    \n",
    "    periods = forecast_json['properties']['periods']\n",
    "    \n",
    "    dates = []\n",
    "    is_day_time = []\n",
    "    temps = []\n",
    "    short_forecasts = []\n",
    "    detailed_forecasts = []\n",
    "    \n",
    "    for period in periods:\n",
    "        start_time = period['startTime']\n",
    "        date = start_time.split('T')[0]  # Extract the date part\n",
    "        date = pd.to_datetime(date).strftime('%m/%d/%Y')  # Format the date\n",
    "\n",
    "        dates.append(date)\n",
    "        is_day_time.append(period['isDaytime'])\n",
    "        temps.append(period['temperature'])\n",
    "        short_forecasts.append(period['shortForecast'])\n",
    "        detailed_forecasts.append(period['detailedForecast'])\n",
    "    \n",
    "    # Create a DataFrame\n",
    "    weather_df = pd.DataFrame({\n",
    "        'Date': dates,\n",
    "        'Day Time': is_day_time,\n",
    "        'Temp': temps,\n",
    "        'Short Forecast': short_forecasts,\n",
    "        'Detailed Forecast': detailed_forecasts\n",
    "    })\n",
    "    \n",
    "    # Display the DataFrame\n",
    "    print(weather_df)\n",
    "    \n",
    "else:\n",
    "    print(f\"Error: Unable to fetch data, status code {forecast_response.status_code}\")"
   ]
  },
  {
   "cell_type": "markdown",
   "metadata": {},
   "source": [
    "### Creating Visuals\n",
    "\n",
    "From here, we can create simple visuals for the user."
   ]
  },
  {
   "cell_type": "code",
   "execution_count": 6,
   "metadata": {},
   "outputs": [
    {
     "data": {
      "image/png": "[encoded data removed]",
      "text/plain": [
       "<Figure size 1200x800 with 1 Axes>"
      ]
     },
     "metadata": {},
     "output_type": "display_data"
    }
   ],
   "source": [
    "daytime_temps = weather_df[weather_df['Day Time'] == True]\n",
    "nighttime_temps = weather_df[weather_df['Day Time'] == False]\n",
    "\n",
    "weather_df['Date'] = pd.to_datetime(weather_df['Date'])\n",
    "\n",
    "plt.figure(figsize=(12, 8))\n",
    "plt.plot(daytime_temps['Date'], daytime_temps['Temp'], label='Highs (Daytime)', color='orange', marker='o')\n",
    "for i in range(len(daytime_temps)):\n",
    "    plt.annotate(f\"{daytime_temps.iloc[i]['Temp']}°F\", \n",
    "                 (daytime_temps.iloc[i]['Date'], daytime_temps.iloc[i]['Temp']), \n",
    "                 textcoords=\"offset points\", \n",
    "                 xytext=(0, 10), \n",
    "                 ha='center', \n",
    "                 fontsize=9)\n",
    "plt.plot(nighttime_temps['Date'], nighttime_temps['Temp'], label='Lows (Nighttime)', color='blue', marker='o')\n",
    "for i in range(len(nighttime_temps)):\n",
    "    plt.annotate(f\"{nighttime_temps.iloc[i]['Temp']}°F\", \n",
    "                 (nighttime_temps.iloc[i]['Date'], nighttime_temps.iloc[i]['Temp']), \n",
    "                 textcoords=\"offset points\", \n",
    "                 xytext=(0, -15), \n",
    "                 ha='center', \n",
    "                 fontsize=9)\n",
    "plt.title('Temperature Trends')\n",
    "plt.xlabel('Date')\n",
    "plt.ylabel('Temperature (F)')\n",
    "plt.legend()\n",
    "plt.xticks()\n",
    "plt.grid(False)\n",
    "plt.tight_layout()\n",
    "plt.show()"
   ]
  },
  {
   "cell_type": "code",
   "execution_count": 7,
   "metadata": {},
   "outputs": [
    {
     "data": {
      "application/vnd.plotly.v1+json": {
       "config": {
        "plotlyServerURL": "https://plot.ly"
       },
       "data": [
        {
         "cells": {
          "align": "left",
          "fill": {
           "color": "lightblue"
          },
          "values": [
           [
            "05/29/2024",
            "05/30/2024",
            "05/30/2024",
            "05/31/2024",
            "05/31/2024",
            "06/01/2024",
            "06/01/2024",
            "06/02/2024",
            "06/02/2024",
            "06/03/2024",
            "06/03/2024",
            "06/04/2024",
            "06/04/2024",
            "06/05/2024"
           ],
           [
            "Night",
            "Day",
            "Night",
            "Day",
            "Night",
            "Day",
            "Night",
            "Day",
            "Night",
            "Day",
            "Night",
            "Day",
            "Night",
            "Day"
           ],
           [
            "Mostly Clear",
            "Sunny",
            "Mostly Clear",
            "Sunny",
            "Mostly Clear",
            "Mostly Sunny",
            "Partly Cloudy",
            "Mostly Sunny",
            "Partly Cloudy",
            "Mostly Sunny",
            "Mostly Cloudy",
            "Partly Sunny",
            "Partly Cloudy",
            "Sunny"
           ],
           [
            "Mostly clear. Low around 37, with temperatures rising to around 39 overnight. Northwest wind 3 to 7 mph.",
            "Sunny, with a high near 63. West wind 1 to 9 mph.",
            "Mostly clear, with a low around 39. East southeast wind 2 to 7 mph.",
            "Sunny, with a high near 71. West wind 0 to 6 mph.",
            "Mostly clear, with a low around 46. North northeast wind around 3 mph.",
            "Mostly sunny, with a high near 79.",
            "Partly cloudy, with a low around 50.",
            "Mostly sunny, with a high near 75.",
            "Partly cloudy, with a low around 49.",
            "Mostly sunny, with a high near 79.",
            "Mostly cloudy, with a low around 50.",
            "Partly sunny, with a high near 71.",
            "Partly cloudy, with a low around 46.",
            "Sunny, with a high near 77."
           ]
          ]
         },
         "header": {
          "align": "left",
          "fill": {
           "color": "paleturquoise"
          },
          "values": [
           "Date",
           "Day/Night",
           "Short Forecast",
           "Detailed Forecast"
          ]
         },
         "type": "table"
        }
       ],
       "layout": {
        "template": {
         "data": {
          "bar": [
           {
            "error_x": {
             "color": "#2a3f5f"
            },
            "error_y": {
             "color": "#2a3f5f"
            },
            "marker": {
             "line": {
              "color": "#E5ECF6",
              "width": 0.5
             },
             "pattern": {
              "fillmode": "overlay",
              "size": 10,
              "solidity": 0.2
             }
            },
            "type": "bar"
           }
          ],
          "barpolar": [
           {
            "marker": {
             "line": {
              "color": "#E5ECF6",
              "width": 0.5
             },
             "pattern": {
              "fillmode": "overlay",
              "size": 10,
              "solidity": 0.2
             }
            },
            "type": "barpolar"
           }
          ],
          "carpet": [
           {
            "aaxis": {
             "endlinecolor": "#2a3f5f",
             "gridcolor": "white",
             "linecolor": "white",
             "minorgridcolor": "white",
             "startlinecolor": "#2a3f5f"
            },
            "baxis": {
             "endlinecolor": "#2a3f5f",
             "gridcolor": "white",
             "linecolor": "white",
             "minorgridcolor": "white",
             "startlinecolor": "#2a3f5f"
            },
            "type": "carpet"
           }
          ],
          "choropleth": [
           {
            "colorbar": {
             "outlinewidth": 0,
             "ticks": ""
            },
            "type": "choropleth"
           }
          ],
          "contour": [
           {
            "colorbar": {
             "outlinewidth": 0,
             "ticks": ""
            },
            "colorscale": [
             [
              0,
              "#0d0887"
             ],
             [
              0.1111111111111111,
              "#46039f"
             ],
             [
              0.2222222222222222,
              "#7201a8"
             ],
             [
              0.3333333333333333,
              "#9c179e"
             ],
             [
              0.4444444444444444,
              "#bd3786"
             ],
             [
              0.5555555555555556,
              "#d8576b"
             ],
             [
              0.6666666666666666,
              "#ed7953"
             ],
             [
              0.7777777777777778,
              "#fb9f3a"
             ],
             [
              0.8888888888888888,
              "#fdca26"
             ],
             [
              1,
              "#f0f921"
             ]
            ],
            "type": "contour"
           }
          ],
          "contourcarpet": [
           {
            "colorbar": {
             "outlinewidth": 0,
             "ticks": ""
            },
            "type": "contourcarpet"
           }
          ],
          "heatmap": [
           {
            "colorbar": {
             "outlinewidth": 0,
             "ticks": ""
            },
            "colorscale": [
             [
              0,
              "#0d0887"
             ],
             [
              0.1111111111111111,
              "#46039f"
             ],
             [
              0.2222222222222222,
              "#7201a8"
             ],
             [
              0.3333333333333333,
              "#9c179e"
             ],
             [
              0.4444444444444444,
              "#bd3786"
             ],
             [
              0.5555555555555556,
              "#d8576b"
             ],
             [
              0.6666666666666666,
              "#ed7953"
             ],
             [
              0.7777777777777778,
              "#fb9f3a"
             ],
             [
              0.8888888888888888,
              "#fdca26"
             ],
             [
              1,
              "#f0f921"
             ]
            ],
            "type": "heatmap"
           }
          ],
          "heatmapgl": [
           {
            "colorbar": {
             "outlinewidth": 0,
             "ticks": ""
            },
            "colorscale": [
             [
              0,
              "#0d0887"
             ],
             [
              0.1111111111111111,
              "#46039f"
             ],
             [
              0.2222222222222222,
              "#7201a8"
             ],
             [
              0.3333333333333333,
              "#9c179e"
             ],
             [
              0.4444444444444444,
              "#bd3786"
             ],
             [
              0.5555555555555556,
              "#d8576b"
             ],
             [
              0.6666666666666666,
              "#ed7953"
             ],
             [
              0.7777777777777778,
              "#fb9f3a"
             ],
             [
              0.8888888888888888,
              "#fdca26"
             ],
             [
              1,
              "#f0f921"
             ]
            ],
            "type": "heatmapgl"
           }
          ],
          "histogram": [
           {
            "marker": {
             "pattern": {
              "fillmode": "overlay",
              "size": 10,
              "solidity": 0.2
             }
            },
            "type": "histogram"
           }
          ],
          "histogram2d": [
           {
            "colorbar": {
             "outlinewidth": 0,
             "ticks": ""
            },
            "colorscale": [
             [
              0,
              "#0d0887"
             ],
             [
              0.1111111111111111,
              "#46039f"
             ],
             [
              0.2222222222222222,
              "#7201a8"
             ],
             [
              0.3333333333333333,
              "#9c179e"
             ],
             [
              0.4444444444444444,
              "#bd3786"
             ],
             [
              0.5555555555555556,
              "#d8576b"
             ],
             [
              0.6666666666666666,
              "#ed7953"
             ],
             [
              0.7777777777777778,
              "#fb9f3a"
             ],
             [
              0.8888888888888888,
              "#fdca26"
             ],
             [
              1,
              "#f0f921"
             ]
            ],
            "type": "histogram2d"
           }
          ],
          "histogram2dcontour": [
           {
            "colorbar": {
             "outlinewidth": 0,
             "ticks": ""
            },
            "colorscale": [
             [
              0,
              "#0d0887"
             ],
             [
              0.1111111111111111,
              "#46039f"
             ],
             [
              0.2222222222222222,
              "#7201a8"
             ],
             [
              0.3333333333333333,
              "#9c179e"
             ],
             [
              0.4444444444444444,
              "#bd3786"
             ],
             [
              0.5555555555555556,
              "#d8576b"
             ],
             [
              0.6666666666666666,
              "#ed7953"
             ],
             [
              0.7777777777777778,
              "#fb9f3a"
             ],
             [
              0.8888888888888888,
              "#fdca26"
             ],
             [
              1,
              "#f0f921"
             ]
            ],
            "type": "histogram2dcontour"
           }
          ],
          "mesh3d": [
           {
            "colorbar": {
             "outlinewidth": 0,
             "ticks": ""
            },
            "type": "mesh3d"
           }
          ],
          "parcoords": [
           {
            "line": {
             "colorbar": {
              "outlinewidth": 0,
              "ticks": ""
             }
            },
            "type": "parcoords"
           }
          ],
          "pie": [
           {
            "automargin": true,
            "type": "pie"
           }
          ],
          "scatter": [
           {
            "fillpattern": {
             "fillmode": "overlay",
             "size": 10,
             "solidity": 0.2
            },
            "type": "scatter"
           }
          ],
          "scatter3d": [
           {
            "line": {
             "colorbar": {
              "outlinewidth": 0,
              "ticks": ""
             }
            },
            "marker": {
             "colorbar": {
              "outlinewidth": 0,
              "ticks": ""
             }
            },
            "type": "scatter3d"
           }
          ],
          "scattercarpet": [
           {
            "marker": {
             "colorbar": {
              "outlinewidth": 0,
              "ticks": ""
             }
            },
            "type": "scattercarpet"
           }
          ],
          "scattergeo": [
           {
            "marker": {
             "colorbar": {
              "outlinewidth": 0,
              "ticks": ""
             }
            },
            "type": "scattergeo"
           }
          ],
          "scattergl": [
           {
            "marker": {
             "colorbar": {
              "outlinewidth": 0,
              "ticks": ""
             }
            },
            "type": "scattergl"
           }
          ],
          "scattermapbox": [
           {
            "marker": {
             "colorbar": {
              "outlinewidth": 0,
              "ticks": ""
             }
            },
            "type": "scattermapbox"
           }
          ],
          "scatterpolar": [
           {
            "marker": {
             "colorbar": {
              "outlinewidth": 0,
              "ticks": ""
             }
            },
            "type": "scatterpolar"
           }
          ],
          "scatterpolargl": [
           {
            "marker": {
             "colorbar": {
              "outlinewidth": 0,
              "ticks": ""
             }
            },
            "type": "scatterpolargl"
           }
          ],
          "scatterternary": [
           {
            "marker": {
             "colorbar": {
              "outlinewidth": 0,
              "ticks": ""
             }
            },
            "type": "scatterternary"
           }
          ],
          "surface": [
           {
            "colorbar": {
             "outlinewidth": 0,
             "ticks": ""
            },
            "colorscale": [
             [
              0,
              "#0d0887"
             ],
             [
              0.1111111111111111,
              "#46039f"
             ],
             [
              0.2222222222222222,
              "#7201a8"
             ],
             [
              0.3333333333333333,
              "#9c179e"
             ],
             [
              0.4444444444444444,
              "#bd3786"
             ],
             [
              0.5555555555555556,
              "#d8576b"
             ],
             [
              0.6666666666666666,
              "#ed7953"
             ],
             [
              0.7777777777777778,
              "#fb9f3a"
             ],
             [
              0.8888888888888888,
              "#fdca26"
             ],
             [
              1,
              "#f0f921"
             ]
            ],
            "type": "surface"
           }
          ],
          "table": [
           {
            "cells": {
             "fill": {
              "color": "#EBF0F8"
             },
             "line": {
              "color": "white"
             }
            },
            "header": {
             "fill": {
              "color": "#C8D4E3"
             },
             "line": {
              "color": "white"
             }
            },
            "type": "table"
           }
          ]
         },
         "layout": {
          "annotationdefaults": {
           "arrowcolor": "#2a3f5f",
           "arrowhead": 0,
           "arrowwidth": 1
          },
          "autotypenumbers": "strict",
          "coloraxis": {
           "colorbar": {
            "outlinewidth": 0,
            "ticks": ""
           }
          },
          "colorscale": {
           "diverging": [
            [
             0,
             "#8e0152"
            ],
            [
             0.1,
             "#c51b7d"
            ],
            [
             0.2,
             "#de77ae"
            ],
            [
             0.3,
             "#f1b6da"
            ],
            [
             0.4,
             "#fde0ef"
            ],
            [
             0.5,
             "#f7f7f7"
            ],
            [
             0.6,
             "#e6f5d0"
            ],
            [
             0.7,
             "#b8e186"
            ],
            [
             0.8,
             "#7fbc41"
            ],
            [
             0.9,
             "#4d9221"
            ],
            [
             1,
             "#276419"
            ]
           ],
           "sequential": [
            [
             0,
             "#0d0887"
            ],
            [
             0.1111111111111111,
             "#46039f"
            ],
            [
             0.2222222222222222,
             "#7201a8"
            ],
            [
             0.3333333333333333,
             "#9c179e"
            ],
            [
             0.4444444444444444,
             "#bd3786"
            ],
            [
             0.5555555555555556,
             "#d8576b"
            ],
            [
             0.6666666666666666,
             "#ed7953"
            ],
            [
             0.7777777777777778,
             "#fb9f3a"
            ],
            [
             0.8888888888888888,
             "#fdca26"
            ],
            [
             1,
             "#f0f921"
            ]
           ],
           "sequentialminus": [
            [
             0,
             "#0d0887"
            ],
            [
             0.1111111111111111,
             "#46039f"
            ],
            [
             0.2222222222222222,
             "#7201a8"
            ],
            [
             0.3333333333333333,
             "#9c179e"
            ],
            [
             0.4444444444444444,
             "#bd3786"
            ],
            [
             0.5555555555555556,
             "#d8576b"
            ],
            [
             0.6666666666666666,
             "#ed7953"
            ],
            [
             0.7777777777777778,
             "#fb9f3a"
            ],
            [
             0.8888888888888888,
             "#fdca26"
            ],
            [
             1,
             "#f0f921"
            ]
           ]
          },
          "colorway": [
           "#636efa",
           "#EF553B",
           "#00cc96",
           "#ab63fa",
           "#FFA15A",
           "#19d3f3",
           "#FF6692",
           "#B6E880",
           "#FF97FF",
           "#FECB52"
          ],
          "font": {
           "color": "#2a3f5f"
          },
          "geo": {
           "bgcolor": "white",
           "lakecolor": "white",
           "landcolor": "#E5ECF6",
           "showlakes": true,
           "showland": true,
           "subunitcolor": "white"
          },
          "hoverlabel": {
           "align": "left"
          },
          "hovermode": "closest",
          "mapbox": {
           "style": "light"
          },
          "paper_bgcolor": "white",
          "plot_bgcolor": "#E5ECF6",
          "polar": {
           "angularaxis": {
            "gridcolor": "white",
            "linecolor": "white",
            "ticks": ""
           },
           "bgcolor": "#E5ECF6",
           "radialaxis": {
            "gridcolor": "white",
            "linecolor": "white",
            "ticks": ""
           }
          },
          "scene": {
           "xaxis": {
            "backgroundcolor": "#E5ECF6",
            "gridcolor": "white",
            "gridwidth": 2,
            "linecolor": "white",
            "showbackground": true,
            "ticks": "",
            "zerolinecolor": "white"
           },
           "yaxis": {
            "backgroundcolor": "#E5ECF6",
            "gridcolor": "white",
            "gridwidth": 2,
            "linecolor": "white",
            "showbackground": true,
            "ticks": "",
            "zerolinecolor": "white"
           },
           "zaxis": {
            "backgroundcolor": "#E5ECF6",
            "gridcolor": "white",
            "gridwidth": 2,
            "linecolor": "white",
            "showbackground": true,
            "ticks": "",
            "zerolinecolor": "white"
           }
          },
          "shapedefaults": {
           "line": {
            "color": "#2a3f5f"
           }
          },
          "ternary": {
           "aaxis": {
            "gridcolor": "white",
            "linecolor": "white",
            "ticks": ""
           },
           "baxis": {
            "gridcolor": "white",
            "linecolor": "white",
            "ticks": ""
           },
           "bgcolor": "#E5ECF6",
           "caxis": {
            "gridcolor": "white",
            "linecolor": "white",
            "ticks": ""
           }
          },
          "title": {
           "x": 0.05
          },
          "xaxis": {
           "automargin": true,
           "gridcolor": "white",
           "linecolor": "white",
           "ticks": "",
           "title": {
            "standoff": 15
           },
           "zerolinecolor": "white",
           "zerolinewidth": 2
          },
          "yaxis": {
           "automargin": true,
           "gridcolor": "white",
           "linecolor": "white",
           "ticks": "",
           "title": {
            "standoff": 15
           },
           "zerolinecolor": "white",
           "zerolinewidth": 2
          }
         }
        },
        "title": {
         "text": "Weather Forecast",
         "x": 0.5
        }
       }
      }
     },
     "metadata": {},
     "output_type": "display_data"
    }
   ],
   "source": [
    "\n",
    "weather_df['Day/Night'] = weather_df['Day Time'].apply(lambda x: 'Day' if x else 'Night')\n",
    "weather_df['Date'] = pd.to_datetime(weather_df['Date']).dt.strftime('%m/%d/%Y')\n",
    "\n",
    "fig = go.Figure(data=[go.Table(\n",
    "    header=dict(values=list(weather_df[['Date', 'Day/Night', 'Short Forecast', 'Detailed Forecast']].columns),\n",
    "                fill_color='paleturquoise',\n",
    "                align='left'),\n",
    "    cells=dict(values=[weather_df['Date'], weather_df['Day/Night'], weather_df['Short Forecast'], weather_df['Detailed Forecast']],\n",
    "               fill_color='lightblue',\n",
    "               align='left'))\n",
    "])\n",
    "fig.update_layout(title='Weather Forecast', title_x=0.5)\n",
    "fig.show()"
   ]
  },
  {
   "cell_type": "code",
   "execution_count": 8,
   "metadata": {},
   "outputs": [
    {
     "name": "stdout",
     "output_type": "stream",
     "text": [
      "+----+------------+-------------+------------------+----------------------------------------------------------------------------------------------------------+\n",
      "|    | Date       | Day/Night   | Short Forecast   | Detailed Forecast                                                                                        |\n",
      "|----+------------+-------------+------------------+----------------------------------------------------------------------------------------------------------|\n",
      "|  0 | 05/29/2024 | Night       | Mostly Clear     | Mostly clear. Low around 37, with temperatures rising to around 39 overnight. Northwest wind 3 to 7 mph. |\n",
      "|  1 | 05/30/2024 | Day         | Sunny            | Sunny, with a high near 63. West wind 1 to 9 mph.                                                        |\n",
      "|  2 | 05/30/2024 | Night       | Mostly Clear     | Mostly clear, with a low around 39. East southeast wind 2 to 7 mph.                                      |\n",
      "|  3 | 05/31/2024 | Day         | Sunny            | Sunny, with a high near 71. West wind 0 to 6 mph.                                                        |\n",
      "|  4 | 05/31/2024 | Night       | Mostly Clear     | Mostly clear, with a low around 46. North northeast wind around 3 mph.                                   |\n",
      "|  5 | 06/01/2024 | Day         | Mostly Sunny     | Mostly sunny, with a high near 79.                                                                       |\n",
      "|  6 | 06/01/2024 | Night       | Partly Cloudy    | Partly cloudy, with a low around 50.                                                                     |\n",
      "|  7 | 06/02/2024 | Day         | Mostly Sunny     | Mostly sunny, with a high near 75.                                                                       |\n",
      "|  8 | 06/02/2024 | Night       | Partly Cloudy    | Partly cloudy, with a low around 49.                                                                     |\n",
      "|  9 | 06/03/2024 | Day         | Mostly Sunny     | Mostly sunny, with a high near 79.                                                                       |\n",
      "| 10 | 06/03/2024 | Night       | Mostly Cloudy    | Mostly cloudy, with a low around 50.                                                                     |\n",
      "| 11 | 06/04/2024 | Day         | Partly Sunny     | Partly sunny, with a high near 71.                                                                       |\n",
      "| 12 | 06/04/2024 | Night       | Partly Cloudy    | Partly cloudy, with a low around 46.                                                                     |\n",
      "| 13 | 06/05/2024 | Day         | Sunny            | Sunny, with a high near 77.                                                                              |\n",
      "+----+------------+-------------+------------------+----------------------------------------------------------------------------------------------------------+\n"
     ]
    }
   ],
   "source": [
    "weather_df['Day/Night'] = weather_df['Day Time'].apply(lambda x: 'Day' if x else 'Night')\n",
    "weather_df['Date'] = pd.to_datetime(weather_df['Date']).dt.strftime('%m/%d/%Y')\n",
    "\n",
    "# Select the columns to display\n",
    "display_df = weather_df[['Date', 'Day/Night', 'Short Forecast', 'Detailed Forecast']]\n",
    "\n",
    "# Print the table using tabulate\n",
    "print(tabulate(display_df, headers='keys', tablefmt='psql'))"
   ]
  }
 ],
 "metadata": {
  "kernelspec": {
   "display_name": "Python 3",
   "language": "python",
   "name": "python3"
  },
  "language_info": {
   "codemirror_mode": {
    "name": "ipython",
    "version": 3
   },
   "file_extension": ".py",
   "mimetype": "text/x-python",
   "name": "python",
   "nbconvert_exporter": "python",
   "pygments_lexer": "ipython3",
   "version": "3.11.0"
  }
 },
 "nbformat": 4,
 "nbformat_minor": 2
}
